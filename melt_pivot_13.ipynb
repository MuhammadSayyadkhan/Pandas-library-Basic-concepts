{
 "cells": [
  {
   "cell_type": "markdown",
   "metadata": {},
   "source": [
    "### melt() and pivot():\n",
    " functions are used to reshape your data for different purposes. These are powerful tools for data transformation, especially when working with wide-format and long-format data."
   ]
  },
  {
   "cell_type": "markdown",
   "metadata": {},
   "source": [
    "### melt():\n",
    "The melt() function is used to convert a wide-format DataFrame (where columns are typically variables) into a long-format DataFrame (where rows represent individual observations)."
   ]
  },
  {
   "cell_type": "markdown",
   "metadata": {},
   "source": [
    "pd.melt(frame, id_vars=None, value_vars=None, var_name=None, value_name='value', col_level=None)"
   ]
  },
  {
   "cell_type": "markdown",
   "metadata": {},
   "source": [
    "frame: DataFrame to be melted.\n",
    "id_vars: Columns to keep as identifiers (usually categorical variables).\n",
    "value_vars: Columns to unpivot (melt) into rows.\n",
    "var_name: Name of the variable column in the melted DataFrame.\n",
    "value_name: Name of the value column in the melted DataFrame."
   ]
  },
  {
   "cell_type": "code",
   "execution_count": null,
   "metadata": {},
   "outputs": [],
   "source": [
    "import pandas as pd\n",
    "var = pd.DataFrame({\n",
    "    'ID': [1, 2, 3],\n",
    "    'Name' :[\"Ayan\", \"Shaweez\", \"Hassan\"],\n",
    "    \"Eng\" : [89, 78, 98],\n",
    "    'CS'  : [89, 67, 56],\n",
    "    'SE'  : [90, 67, 87]\n",
    "})\n",
    "pd.melt(var, id_vars=['ID'], var_name='Student', value_name=\"Data\")"
   ]
  },
  {
   "cell_type": "markdown",
   "metadata": {},
   "source": [
    "### Pivot():\n",
    "The pivot() function is used to reshape a DataFrame from long format to wide format, effectively \"pivoting\" the data based on certain columns."
   ]
  },
  {
   "cell_type": "markdown",
   "metadata": {},
   "source": [
    "DataFrame.pivot(index=None, columns=None, values=None)"
   ]
  },
  {
   "cell_type": "markdown",
   "metadata": {},
   "source": [
    "index: The column to use as the new index (rows) in the reshaped DataFrame.\n",
    "columns: The column to use as the new column headers.\n",
    "values: The column whose values will fill the new DataFrame."
   ]
  },
  {
   "cell_type": "code",
   "execution_count": 20,
   "metadata": {},
   "outputs": [
    {
     "data": {
      "text/html": [
       "<div>\n",
       "<style scoped>\n",
       "    .dataframe tbody tr th:only-of-type {\n",
       "        vertical-align: middle;\n",
       "    }\n",
       "\n",
       "    .dataframe tbody tr th {\n",
       "        vertical-align: top;\n",
       "    }\n",
       "\n",
       "    .dataframe thead th {\n",
       "        text-align: right;\n",
       "    }\n",
       "</style>\n",
       "<table border=\"1\" class=\"dataframe\">\n",
       "  <thead>\n",
       "    <tr style=\"text-align: right;\">\n",
       "      <th>Subject</th>\n",
       "      <th>Cs</th>\n",
       "      <th>Eng</th>\n",
       "      <th>SE</th>\n",
       "    </tr>\n",
       "    <tr>\n",
       "      <th>ID</th>\n",
       "      <th></th>\n",
       "      <th></th>\n",
       "      <th></th>\n",
       "    </tr>\n",
       "  </thead>\n",
       "  <tbody>\n",
       "    <tr>\n",
       "      <th>1</th>\n",
       "      <td>90</td>\n",
       "      <td>78</td>\n",
       "      <td>78</td>\n",
       "    </tr>\n",
       "    <tr>\n",
       "      <th>2</th>\n",
       "      <td>89</td>\n",
       "      <td>34</td>\n",
       "      <td>54</td>\n",
       "    </tr>\n",
       "  </tbody>\n",
       "</table>\n",
       "</div>"
      ],
      "text/plain": [
       "Subject  Cs  Eng  SE\n",
       "ID                  \n",
       "1        90   78  78\n",
       "2        89   34  54"
      ]
     },
     "execution_count": 20,
     "metadata": {},
     "output_type": "execute_result"
    }
   ],
   "source": [
    "x = pd.DataFrame({\n",
    "    'ID' :[1,2, 1, 2, 1, 2],\n",
    "    'Subject':['Cs','Cs', 'SE', 'SE','Eng','Eng'],\n",
    "    'Marks'  :[90, 89, 78, 54, 78, 34]\n",
    "})\n",
    "x.pivot(index='ID',columns='Subject', values='Marks', )"
   ]
  },
  {
   "cell_type": "markdown",
   "metadata": {},
   "source": [
    "### Explanation:\n",
    "Before: The DataFrame was in long format, where each subject score was represented in rows.\n",
    "After: The pivot() function reshapes the data back to a wide format with subjects as columns and ID as rows.\n",
    "Key Points:\n",
    "melt(): Converts data from wide format to long format by unpivoting columns into rows.\n",
    "pivot(): Converts data from long format to wide format by pivoting unique values of one column to become new columns."
   ]
  },
  {
   "cell_type": "markdown",
   "metadata": {},
   "source": [
    "### pivot_table() for Aggregation:\n",
    "The pivot_table() function is similar to pivot(), but it can handle duplicate values by applying an aggregation function (like mean, sum, etc.).\n",
    "\n",
    "#### Example: Using pivot_table()"
   ]
  },
  {
   "cell_type": "code",
   "execution_count": null,
   "metadata": {},
   "outputs": [
    {
     "name": "stdout",
     "output_type": "stream",
     "text": [
      "Pivot Table DataFrame:\n",
      "Subject  English  Math  Science        All\n",
      "ID                                        \n",
      "1           88.0  90.0     85.0  87.666667\n",
      "2           78.0  80.0     75.0  77.666667\n",
      "3           68.0  70.0     65.0  67.666667\n",
      "All         78.0  80.0     75.0  77.666667\n"
     ]
    }
   ],
   "source": [
    "# Create a long-format DataFrame with duplicates\n",
    "df = pd.DataFrame({\n",
    "    'ID': [1, 2, 3, 1, 2, 3, 1, 2, 3],\n",
    "    'Subject': ['Math', 'Math', 'Math', 'Science', 'Science', 'Science', 'English', 'English', 'English'],\n",
    "    'Score': [90, 80, 70, 85, 75, 65, 88, 78, 68]\n",
    "})\n",
    "\n",
    "# Pivot the DataFrame with aggregation (average score per subject)\n",
    "pivoted_df = df.pivot_table(index='ID', columns='Subject', values='Score', aggfunc='mean', margins=True) # mrgins mean find average\n",
    "# df['total']= df['English']+df['Math']+df['Science']\n",
    "\n",
    "print(\"Pivot Table DataFrame:\")\n",
    "print(pivoted_df)"
   ]
  }
 ],
 "metadata": {
  "kernelspec": {
   "display_name": "Python 3",
   "language": "python",
   "name": "python3"
  },
  "language_info": {
   "codemirror_mode": {
    "name": "ipython",
    "version": 3
   },
   "file_extension": ".py",
   "mimetype": "text/x-python",
   "name": "python",
   "nbconvert_exporter": "python",
   "pygments_lexer": "ipython3",
   "version": "3.13.2"
  }
 },
 "nbformat": 4,
 "nbformat_minor": 2
}
