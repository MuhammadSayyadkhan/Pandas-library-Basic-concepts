{
 "cells": [
  {
   "cell_type": "markdown",
   "metadata": {},
   "source": [
    "### Insertion:\n",
    "Inserting a Column: You can insert a new column into a DataFrame using the following ways:"
   ]
  },
  {
   "cell_type": "code",
   "execution_count": 6,
   "metadata": {},
   "outputs": [
    {
     "name": "stdout",
     "output_type": "stream",
     "text": [
      "     Name \n",
      "0   sayyad\n",
      "1    talha\n",
      "2  shehree\n",
      "3   shahid\n",
      "2\n",
      "Add new columns\n",
      "\n",
      "     Name       Address\n",
      "0   sayyad       maidan\n",
      "1    talha         wari\n",
      "2  shehree  afghanistan\n",
      "3   shahid     peshawar\n",
      "2\n"
     ]
    }
   ],
   "source": [
    "import pandas as pd\n",
    "x = pd.DataFrame({\"Name \": [\"sayyad\", \"talha\", \"shehree\",\"shahid\"]})\n",
    "print(x)\n",
    "print(x.ndim)\n",
    "print(\"Add new columns\")\n",
    "print()\n",
    "x[\"Address\"] =[\"maidan\",\"wari\",\"afghanistan\",'peshawar']\n",
    "print(x)\n",
    "print(x.ndim)\n",
    "\n"
   ]
  },
  {
   "cell_type": "markdown",
   "metadata": {},
   "source": [
    "### Insertion():\n",
    "insert a value to a specific column store data"
   ]
  },
  {
   "cell_type": "code",
   "execution_count": 7,
   "metadata": {},
   "outputs": [
    {
     "name": "stdout",
     "output_type": "stream",
     "text": [
      "     Name       Address\n",
      "0   sayyad       maidan\n",
      "1    talha         wari\n",
      "2  shehree  afghanistan\n",
      "3   shahid     peshawar\n",
      "\n",
      "Insert function use to specific index store data\n",
      "\n",
      "     Name       Address  Age  Gender\n",
      "0   sayyad       maidan    7    Male\n",
      "1    talha         wari    3  Female\n",
      "2  shehree  afghanistan    5    Male\n",
      "3   shahid     peshawar    1  Female\n"
     ]
    }
   ],
   "source": [
    "x1 = pd.DataFrame({\"Name \": [\"sayyad\", \"talha\", \"shehree\",\"shahid\"], \"Address\":[\"maidan\",\"wari\",\"afghanistan\",'peshawar']})\n",
    "print(x1)\n",
    "print()\n",
    "print(\"Insert function use to specific index store data\")\n",
    "print()\n",
    "x1.insert(2,\"Age\",[7, 3, 5, 1]) # 2 mean index 2 columns data store\n",
    "x1.insert(3, \"Gender\", [\"Male\", \"Female\", \"Male\", \"Female\"])\n",
    "print(x1)"
   ]
  },
  {
   "cell_type": "markdown",
   "metadata": {},
   "source": [
    "### inserting a Row:\n",
    " To insert a row into a DataFrame, you can use loc, append(), or concat():"
   ]
  },
  {
   "cell_type": "markdown",
   "metadata": {},
   "source": [
    "### Loc():\n",
    "for inserting a new row by index."
   ]
  },
  {
   "cell_type": "code",
   "execution_count": 8,
   "metadata": {},
   "outputs": [
    {
     "name": "stdout",
     "output_type": "stream",
     "text": [
      "     Name       Address\n",
      "0   sayyad       maidan\n",
      "1    talha         wari\n",
      "2  shehree  afghanistan\n",
      "3   shahid     peshawar\n",
      "\n",
      "     Name    Address\n",
      "0   sayyad    maidan\n",
      "1    talha      wari\n",
      "2  Hussain      wari\n",
      "3   shahid  peshawar\n",
      "\n",
      "     Name    Address  Age\n",
      "0   sayyad    maidan    7\n",
      "1    talha      wari    3\n",
      "2  Hussain      wari    4\n",
      "3   shahid  peshawar    1\n"
     ]
    }
   ],
   "source": [
    "x2 = pd.DataFrame({\"Name \": [\"sayyad\", \"talha\", \"shehree\",\"shahid\"], \"Address\":[\"maidan\",\"wari\",\"afghanistan\",'peshawar']})\n",
    "print(x2)\n",
    "print()\n",
    "x2.loc[2]=[\"Hussain\",\"wari\"] # shehree replace to hussain\n",
    "print(x2)\n",
    "print()\n",
    "x2.insert(2,\"Age\",[7, 3, 4, 1])  # insert new columns index 2\n",
    "print(x2)"
   ]
  },
  {
   "cell_type": "markdown",
   "metadata": {},
   "source": [
    "### concat():\n",
    "concat() is a more powerful and flexible method to concatenate DataFrames. You can concatenate along rows or columns, and it gives you full control over the axis of concatenation (either rows or columns)."
   ]
  },
  {
   "cell_type": "code",
   "execution_count": 9,
   "metadata": {},
   "outputs": [
    {
     "name": "stdout",
     "output_type": "stream",
     "text": [
      "   A  B\n",
      "0  1  3\n",
      "1  2  4\n",
      "   A  B\n",
      "0  5  7\n",
      "1  6  8\n",
      "   A  B\n",
      "0  1  3\n",
      "1  2  4\n",
      "0  5  7\n",
      "1  6  8\n"
     ]
    }
   ],
   "source": [
    "df1 = pd.DataFrame({'A': [1, 2], 'B': [3, 4]})\n",
    "df2 = pd.DataFrame({'A': [5, 6], 'B': [7, 8]})\n",
    "print(df1)\n",
    "print(df2)\n",
    "df3=pd.concat([df1,df2], axis=0)  # add columns \n",
    "print(df3)"
   ]
  },
  {
   "cell_type": "markdown",
   "metadata": {},
   "source": [
    "### Adding a Column Using assign():\n",
    " The assign() method is used to add new columns or modify existing ones."
   ]
  },
  {
   "cell_type": "code",
   "execution_count": 10,
   "metadata": {},
   "outputs": [
    {
     "name": "stdout",
     "output_type": "stream",
     "text": [
      "    Name \n",
      "0  Sayyad\n",
      "1   Talha\n",
      "\n",
      "    Name   Age\n",
      "0  Sayyad   21\n",
      "1   Talha   20\n"
     ]
    }
   ],
   "source": [
    "y = pd.DataFrame({ \"Name \": ['Sayyad', 'Talha']})\n",
    "print(y)\n",
    "print()\n",
    "y=y.assign(Age = [21, 20]) # add new columns \n",
    "print(y)\n"
   ]
  },
  {
   "cell_type": "markdown",
   "metadata": {},
   "source": [
    "### Deletion in Pandas:\n",
    "### Drop a Column (Using drop()): \n",
    " You can delete a column using the drop() method."
   ]
  },
  {
   "cell_type": "code",
   "execution_count": 11,
   "metadata": {},
   "outputs": [
    {
     "name": "stdout",
     "output_type": "stream",
     "text": [
      "   1  2  3\n",
      "0  1  4  8\n",
      "1  2  2  6\n",
      "2  3  1  4\n",
      "3  4  2  3\n",
      "\n",
      "   1  2  3\n",
      "0  1  4  8\n",
      "1  2  2  6\n",
      "3  4  2  3\n",
      "\n",
      "   1  3\n",
      "0  1  8\n",
      "1  2  6\n",
      "2  3  4\n",
      "3  4  3\n"
     ]
    }
   ],
   "source": [
    "var = pd.DataFrame({1:[1, 2, 3, 4], 2: [4, 2, 1, 2], 3: [8, 6, 4, 3]})\n",
    "print(var)\n",
    "print()\n",
    "var1 = var.drop(2, axis=0) # index 2 row wise delate data from 3 columns\n",
    "print(var1)\n",
    "print()\n",
    "var2= var.drop(2, axis=1) # index 3 columns wise full coulumns delate\n",
    "print(var2)"
   ]
  },
  {
   "cell_type": "markdown",
   "metadata": {},
   "source": [
    "### Drop a row(Using drop()):\n",
    "you can delate a column using the drop() method."
   ]
  },
  {
   "cell_type": "code",
   "execution_count": 12,
   "metadata": {},
   "outputs": [
    {
     "name": "stdout",
     "output_type": "stream",
     "text": [
      "   1  2  4\n",
      "0  1  4  8\n",
      "1  2  2  6\n",
      "2  3  1  4\n",
      "3  4  2  3\n",
      "\n",
      "   1  2\n",
      "0  1  4\n",
      "1  2  2\n",
      "2  3  1\n",
      "3  4  2\n"
     ]
    }
   ],
   "source": [
    "var = pd.DataFrame({1:[1, 2, 3, 4], 2: [4, 2, 1, 2], 4: [8, 6, 4, 3]})\n",
    "print(var)\n",
    "print()\n",
    "var2= var.drop(4, axis=1) # index 3 columns wise full coulumns delate\n",
    "print(var2)"
   ]
  },
  {
   "cell_type": "markdown",
   "metadata": {},
   "source": [
    "### Using del to Delete a Column:\n",
    " You can also delete a column using the del keyword.\n"
   ]
  },
  {
   "cell_type": "code",
   "execution_count": 13,
   "metadata": {},
   "outputs": [
    {
     "name": "stdout",
     "output_type": "stream",
     "text": [
      "   1  2  4\n",
      "0  1  4  8\n",
      "1  2  2  6\n",
      "2  3  1  4\n",
      "3  4  2  3\n",
      "   1  2\n",
      "0  1  4\n",
      "1  2  2\n",
      "2  3  1\n",
      "3  4  2\n"
     ]
    }
   ],
   "source": [
    "var3 = pd.DataFrame({1:[1, 2, 3, 4], 2: [4, 2, 1, 2], 4: [8, 6, 4, 3]})\n",
    "print(var3)\n",
    "del var3[4]  # delete full columns\n",
    "print(var3)"
   ]
  }
 ],
 "metadata": {
  "kernelspec": {
   "display_name": "tf-env",
   "language": "python",
   "name": "python3"
  },
  "language_info": {
   "codemirror_mode": {
    "name": "ipython",
    "version": 3
   },
   "file_extension": ".py",
   "mimetype": "text/x-python",
   "name": "python",
   "nbconvert_exporter": "python",
   "pygments_lexer": "ipython3",
   "version": "3.12.9"
  }
 },
 "nbformat": 4,
 "nbformat_minor": 2
}
