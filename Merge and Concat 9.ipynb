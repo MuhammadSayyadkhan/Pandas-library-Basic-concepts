{
 "cells": [
  {
   "cell_type": "markdown",
   "metadata": {},
   "source": [
    "### Merge():"
   ]
  },
  {
   "cell_type": "code",
   "execution_count": 2,
   "metadata": {},
   "outputs": [
    {
     "name": "stdout",
     "output_type": "stream",
     "text": [
      "   A   B   C\n",
      "0  1  12  12\n",
      "1  2  14  14\n",
      "2  3  14  14\n",
      "3  4  15  15\n"
     ]
    }
   ],
   "source": [
    "import pandas as pd\n",
    "var1 = pd.DataFrame({\"A\": [1, 2, 3, 4], \"B\":[12, 14, 14, 15]})\n",
    "var2 = pd.DataFrame({\"A\": [1, 2, 3, 4], \"C\":[12, 14, 14, 15]})\n",
    "var3 = pd.merge(var1,var2)\n",
    "print(var3)"
   ]
  },
  {
   "cell_type": "markdown",
   "metadata": {},
   "source": [
    "#### Apply function/Parameter on Merge:\n",
    "#### how():\n",
    "#### left():\n",
    "#### right():\n",
    "#### outer():\n",
    "#### indicator():\n",
    "#### Index_True():left and right"
   ]
  },
  {
   "cell_type": "code",
   "execution_count": 3,
   "metadata": {},
   "outputs": [
    {
     "name": "stdout",
     "output_type": "stream",
     "text": [
      "   A   B     C\n",
      "0  1  12  22.0\n",
      "1  2  14  21.0\n",
      "2  3  14  32.0\n",
      "3  4  15   NaN\n"
     ]
    }
   ],
   "source": [
    "var1 = pd.DataFrame({\"A\": [1, 2, 3, 4], \"B\":[12, 14, 14, 15]})\n",
    "var2 = pd.DataFrame({\"A\": [1, 2, 3, 5], \"C\":[22, 21, 32, 43]})\n",
    "var3 = pd.merge(var1,var2, how=\"left\") # mong sra left side bandy value miss da zaka Nan raki pa right\n",
    "print(var3)"
   ]
  },
  {
   "cell_type": "code",
   "execution_count": 4,
   "metadata": {},
   "outputs": [
    {
     "name": "stdout",
     "output_type": "stream",
     "text": [
      "   A     B   C\n",
      "0  1  12.0  22\n",
      "1  2  14.0  21\n",
      "2  3  14.0  32\n",
      "3  5   NaN  43\n"
     ]
    }
   ],
   "source": [
    "var1 = pd.DataFrame({\"A\": [1, 2, 3, 4], \"B\":[12, 14, 14, 15]})\n",
    "var2 = pd.DataFrame({\"A\": [1, 2, 3, 5], \"C\":[22, 21, 32, 43]})\n",
    "var3 = pd.merge(var1,var2, how=\"right\") # mong sra right side bandy value miss da zaka Nan raki pa left\n",
    "print(var3)"
   ]
  },
  {
   "cell_type": "code",
   "execution_count": 5,
   "metadata": {},
   "outputs": [
    {
     "name": "stdout",
     "output_type": "stream",
     "text": [
      "   A     B     C\n",
      "0  1  12.0  22.0\n",
      "1  2  14.0  21.0\n",
      "2  3  14.0  32.0\n",
      "3  4  15.0   NaN\n",
      "4  5   NaN  43.0\n"
     ]
    }
   ],
   "source": [
    "var1 = pd.DataFrame({\"A\": [1, 2, 3, 4], \"B\":[12, 14, 14, 15]})\n",
    "var2 = pd.DataFrame({\"A\": [1, 2, 3, 5], \"C\":[22, 21, 32, 43]})\n",
    "var3 = pd.merge(var1,var2, how=\"outer\") \n",
    "print(var3)"
   ]
  },
  {
   "cell_type": "code",
   "execution_count": 6,
   "metadata": {},
   "outputs": [
    {
     "name": "stdout",
     "output_type": "stream",
     "text": [
      "   A     B     C      _merge\n",
      "0  1  12.0  22.0        both\n",
      "1  2  14.0  21.0        both\n",
      "2  3  14.0  32.0        both\n",
      "3  4  15.0   NaN   left_only\n",
      "4  5   NaN  43.0  right_only\n"
     ]
    }
   ],
   "source": [
    "var1 = pd.DataFrame({\"A\": [1, 2, 3, 4], \"B\":[12, 14, 14, 15]})\n",
    "var2 = pd.DataFrame({\"A\": [1, 2, 3, 5], \"C\":[22, 21, 32, 43]})\n",
    "var3 = pd.merge(var1,var2, how=\"outer\", indicator=True)  # che mong sara km xai k data present da\n",
    "print(var3)"
   ]
  },
  {
   "cell_type": "code",
   "execution_count": 7,
   "metadata": {},
   "outputs": [
    {
     "name": "stdout",
     "output_type": "stream",
     "text": [
      "   A_x  B_x  A_y  B_y\n",
      "0    1   12    1   22\n",
      "1    2   14    2   21\n",
      "2    3   14    3   32\n",
      "3    4   15    5   43\n"
     ]
    }
   ],
   "source": [
    "var1 = pd.DataFrame({\"A\": [1, 2, 3, 4], \"B\":[12, 14, 14, 15]})\n",
    "var2 = pd.DataFrame({\"A\": [1, 2, 3, 5], \"B\":[22, 21, 32, 43]})\n",
    "var3 = pd.merge(var1,var2, left_index=True, right_index=True) # mong che ghonda data show kao\n",
    "print(var3)"
   ]
  },
  {
   "cell_type": "code",
   "execution_count": 8,
   "metadata": {},
   "outputs": [
    {
     "name": "stdout",
     "output_type": "stream",
     "text": [
      "   ALeft  BLeft  ARight  BRight\n",
      "0      1     12       1      22\n",
      "1      2     14       2      21\n",
      "2      3     14       3      32\n",
      "3      4     15       5      43\n"
     ]
    }
   ],
   "source": [
    "var1 = pd.DataFrame({\"A\": [1, 2, 3, 4], \"B\":[12, 14, 14, 15]})\n",
    "var2 = pd.DataFrame({\"A\": [1, 2, 3, 5], \"B\":[22, 21, 32, 43]})\n",
    "var3 = pd.merge(var1,var2,left_index=True, right_index=True, suffixes=(\"Left\", \"Right\")) # mong che parameter change kao, ax, bx, pa zai sa name show kawal ghwaro no mong suffixes use kao.\n",
    "print(var3)"
   ]
  },
  {
   "cell_type": "markdown",
   "metadata": {},
   "source": [
    "### Concate():"
   ]
  },
  {
   "cell_type": "code",
   "execution_count": null,
   "metadata": {},
   "outputs": [],
   "source": [
    "s1 = pd.Series([1, 2, 3, 4])\n",
    "s2 = pd.Series([11, 22, 33, 44])\n",
    "pd.concat((s1, s2))  # Series "
   ]
  },
  {
   "cell_type": "code",
   "execution_count": null,
   "metadata": {},
   "outputs": [
    {
     "data": {
      "text/html": [
       "<div>\n",
       "<style scoped>\n",
       "    .dataframe tbody tr th:only-of-type {\n",
       "        vertical-align: middle;\n",
       "    }\n",
       "\n",
       "    .dataframe tbody tr th {\n",
       "        vertical-align: top;\n",
       "    }\n",
       "\n",
       "    .dataframe thead th {\n",
       "        text-align: right;\n",
       "    }\n",
       "</style>\n",
       "<table border=\"1\" class=\"dataframe\">\n",
       "  <thead>\n",
       "    <tr style=\"text-align: right;\">\n",
       "      <th></th>\n",
       "      <th>A</th>\n",
       "      <th>B</th>\n",
       "      <th>C</th>\n",
       "      <th>D</th>\n",
       "    </tr>\n",
       "  </thead>\n",
       "  <tbody>\n",
       "    <tr>\n",
       "      <th>0</th>\n",
       "      <td>1</td>\n",
       "      <td>11</td>\n",
       "      <td>4</td>\n",
       "      <td>12</td>\n",
       "    </tr>\n",
       "    <tr>\n",
       "      <th>1</th>\n",
       "      <td>2</td>\n",
       "      <td>22</td>\n",
       "      <td>3</td>\n",
       "      <td>12</td>\n",
       "    </tr>\n",
       "    <tr>\n",
       "      <th>2</th>\n",
       "      <td>3</td>\n",
       "      <td>12</td>\n",
       "      <td>2</td>\n",
       "      <td>12</td>\n",
       "    </tr>\n",
       "    <tr>\n",
       "      <th>3</th>\n",
       "      <td>4</td>\n",
       "      <td>43</td>\n",
       "      <td>1</td>\n",
       "      <td>12</td>\n",
       "    </tr>\n",
       "  </tbody>\n",
       "</table>\n",
       "</div>"
      ],
      "text/plain": [
       "   A   B  C   D\n",
       "0  1  11  4  12\n",
       "1  2  22  3  12\n",
       "2  3  12  2  12\n",
       "3  4  43  1  12"
      ]
     },
     "execution_count": 14,
     "metadata": {},
     "output_type": "execute_result"
    }
   ],
   "source": [
    "d1 = pd.DataFrame({\"A\": [1, 2, 3, 4], \"B\": [11, 22, 12, 43]})\n",
    "d2 = pd.DataFrame({\"C\":[4, 3, 2, 1], \"D\": [12, 12, 12, 12]})\n",
    "pd.concat((d1, d2), axis=1) # row and columns wise check data 1 columns and 0 rows"
   ]
  },
  {
   "cell_type": "markdown",
   "metadata": {},
   "source": [
    "#### inner():\n",
    "inner mean intersection, da ba mong ta hagha omra value print k che somra element dono k mushtamil de.\n",
    "#### outer():\n",
    "outer mean union, che somra value equal de hagha ba print k ao kamy che paty de haghha ba NaN k."
   ]
  },
  {
   "cell_type": "code",
   "execution_count": 22,
   "metadata": {},
   "outputs": [
    {
     "data": {
      "text/html": [
       "<div>\n",
       "<style scoped>\n",
       "    .dataframe tbody tr th:only-of-type {\n",
       "        vertical-align: middle;\n",
       "    }\n",
       "\n",
       "    .dataframe tbody tr th {\n",
       "        vertical-align: top;\n",
       "    }\n",
       "\n",
       "    .dataframe thead th {\n",
       "        text-align: right;\n",
       "    }\n",
       "</style>\n",
       "<table border=\"1\" class=\"dataframe\">\n",
       "  <thead>\n",
       "    <tr style=\"text-align: right;\">\n",
       "      <th></th>\n",
       "      <th>A</th>\n",
       "      <th>B</th>\n",
       "      <th>C</th>\n",
       "      <th>D</th>\n",
       "    </tr>\n",
       "  </thead>\n",
       "  <tbody>\n",
       "    <tr>\n",
       "      <th>0</th>\n",
       "      <td>1</td>\n",
       "      <td>11</td>\n",
       "      <td>4.0</td>\n",
       "      <td>12.0</td>\n",
       "    </tr>\n",
       "    <tr>\n",
       "      <th>1</th>\n",
       "      <td>2</td>\n",
       "      <td>22</td>\n",
       "      <td>3.0</td>\n",
       "      <td>12.0</td>\n",
       "    </tr>\n",
       "    <tr>\n",
       "      <th>2</th>\n",
       "      <td>3</td>\n",
       "      <td>12</td>\n",
       "      <td>NaN</td>\n",
       "      <td>NaN</td>\n",
       "    </tr>\n",
       "    <tr>\n",
       "      <th>3</th>\n",
       "      <td>4</td>\n",
       "      <td>12</td>\n",
       "      <td>NaN</td>\n",
       "      <td>NaN</td>\n",
       "    </tr>\n",
       "  </tbody>\n",
       "</table>\n",
       "</div>"
      ],
      "text/plain": [
       "   A   B    C     D\n",
       "0  1  11  4.0  12.0\n",
       "1  2  22  3.0  12.0\n",
       "2  3  12  NaN   NaN\n",
       "3  4  12  NaN   NaN"
      ]
     },
     "execution_count": 22,
     "metadata": {},
     "output_type": "execute_result"
    }
   ],
   "source": [
    "d1 = pd.DataFrame({\"A\": [1, 2, 3, 4], \"B\": [11, 22, 12, 12]})\n",
    "d2 = pd.DataFrame({\"C\":[4, 3], \"D\": [12, 12]})\n",
    "pd.concat((d1, d2),join=\"outer\" ,axis=1)"
   ]
  },
  {
   "cell_type": "code",
   "execution_count": 23,
   "metadata": {},
   "outputs": [
    {
     "data": {
      "text/html": [
       "<div>\n",
       "<style scoped>\n",
       "    .dataframe tbody tr th:only-of-type {\n",
       "        vertical-align: middle;\n",
       "    }\n",
       "\n",
       "    .dataframe tbody tr th {\n",
       "        vertical-align: top;\n",
       "    }\n",
       "\n",
       "    .dataframe thead th {\n",
       "        text-align: right;\n",
       "    }\n",
       "</style>\n",
       "<table border=\"1\" class=\"dataframe\">\n",
       "  <thead>\n",
       "    <tr style=\"text-align: right;\">\n",
       "      <th></th>\n",
       "      <th>A</th>\n",
       "      <th>B</th>\n",
       "      <th>C</th>\n",
       "      <th>D</th>\n",
       "    </tr>\n",
       "  </thead>\n",
       "  <tbody>\n",
       "    <tr>\n",
       "      <th>0</th>\n",
       "      <td>1</td>\n",
       "      <td>11</td>\n",
       "      <td>4</td>\n",
       "      <td>12</td>\n",
       "    </tr>\n",
       "    <tr>\n",
       "      <th>1</th>\n",
       "      <td>2</td>\n",
       "      <td>22</td>\n",
       "      <td>3</td>\n",
       "      <td>12</td>\n",
       "    </tr>\n",
       "  </tbody>\n",
       "</table>\n",
       "</div>"
      ],
      "text/plain": [
       "   A   B  C   D\n",
       "0  1  11  4  12\n",
       "1  2  22  3  12"
      ]
     },
     "execution_count": 23,
     "metadata": {},
     "output_type": "execute_result"
    }
   ],
   "source": [
    "d1 = pd.DataFrame({\"A\": [1, 2, 3, 4], \"B\": [11, 22, 12, 12]})\n",
    "d2 = pd.DataFrame({\"C\":[4, 3], \"D\": [12, 12]})\n",
    "pd.concat((d1, d2),join=\"inner\" ,axis=1)"
   ]
  },
  {
   "cell_type": "markdown",
   "metadata": {},
   "source": [
    "#### Key():\n",
    "key mong de dapara use kao, kala che mong da varibale name wrko ao merge k dataFrame."
   ]
  },
  {
   "cell_type": "code",
   "execution_count": null,
   "metadata": {},
   "outputs": [
    {
     "data": {
      "text/html": [
       "<div>\n",
       "<style scoped>\n",
       "    .dataframe tbody tr th:only-of-type {\n",
       "        vertical-align: middle;\n",
       "    }\n",
       "\n",
       "    .dataframe tbody tr th {\n",
       "        vertical-align: top;\n",
       "    }\n",
       "\n",
       "    .dataframe thead tr th {\n",
       "        text-align: left;\n",
       "    }\n",
       "</style>\n",
       "<table border=\"1\" class=\"dataframe\">\n",
       "  <thead>\n",
       "    <tr>\n",
       "      <th></th>\n",
       "      <th colspan=\"2\" halign=\"left\">d1</th>\n",
       "      <th colspan=\"2\" halign=\"left\">d2</th>\n",
       "    </tr>\n",
       "    <tr>\n",
       "      <th></th>\n",
       "      <th>A</th>\n",
       "      <th>B</th>\n",
       "      <th>C</th>\n",
       "      <th>D</th>\n",
       "    </tr>\n",
       "  </thead>\n",
       "  <tbody>\n",
       "    <tr>\n",
       "      <th>0</th>\n",
       "      <td>1</td>\n",
       "      <td>11</td>\n",
       "      <td>4</td>\n",
       "      <td>12</td>\n",
       "    </tr>\n",
       "    <tr>\n",
       "      <th>1</th>\n",
       "      <td>2</td>\n",
       "      <td>22</td>\n",
       "      <td>3</td>\n",
       "      <td>12</td>\n",
       "    </tr>\n",
       "    <tr>\n",
       "      <th>2</th>\n",
       "      <td>3</td>\n",
       "      <td>12</td>\n",
       "      <td>32</td>\n",
       "      <td>12</td>\n",
       "    </tr>\n",
       "    <tr>\n",
       "      <th>3</th>\n",
       "      <td>4</td>\n",
       "      <td>12</td>\n",
       "      <td>12</td>\n",
       "      <td>12</td>\n",
       "    </tr>\n",
       "  </tbody>\n",
       "</table>\n",
       "</div>"
      ],
      "text/plain": [
       "  d1      d2    \n",
       "   A   B   C   D\n",
       "0  1  11   4  12\n",
       "1  2  22   3  12\n",
       "2  3  12  32  12\n",
       "3  4  12  12  12"
      ]
     },
     "execution_count": 28,
     "metadata": {},
     "output_type": "execute_result"
    }
   ],
   "source": [
    "d1 = pd.DataFrame({\"A\": [1, 2, 3, 4], \"B\": [11, 22, 12, 12]})\n",
    "d2 = pd.DataFrame({\"C\":[4, 3,32, 12], \"D\": [12, 12,12, 12]})\n",
    "pd.concat((d1, d2), keys=[\"d1\",\"d2\"], axis=1) # D1 and d2 value seprate print."
   ]
  }
 ],
 "metadata": {
  "kernelspec": {
   "display_name": "Python 3",
   "language": "python",
   "name": "python3"
  },
  "language_info": {
   "codemirror_mode": {
    "name": "ipython",
    "version": 3
   },
   "file_extension": ".py",
   "mimetype": "text/x-python",
   "name": "python",
   "nbconvert_exporter": "python",
   "pygments_lexer": "ipython3",
   "version": "3.13.2"
  }
 },
 "nbformat": 4,
 "nbformat_minor": 2
}
