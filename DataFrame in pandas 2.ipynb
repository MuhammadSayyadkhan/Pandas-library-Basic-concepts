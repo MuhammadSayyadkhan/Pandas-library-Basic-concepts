{
 "cells": [
  {
   "cell_type": "markdown",
   "metadata": {},
   "source": [
    "### DataFrame:\n",
    "- A DataFrame in Pandas is like a table, with rows and columns, used to store and organize data.\n",
    "- It can hold different types of data (like numbers, text, etc.) in each column.\n",
    "#### we can create a DataFrame from:\n",
    "##### A dictionary\n",
    "##### A list of lists or tuples\n",
    "##### A CSV file"
   ]
  },
  {
   "cell_type": "code",
   "execution_count": 1,
   "metadata": {},
   "outputs": [
    {
     "name": "stdout",
     "output_type": "stream",
     "text": [
      "      Name    Address\n",
      "0   Sayyad        Dir\n",
      "1    Talha   Peshawar\n",
      "2  Shehree  Islamabad\n"
     ]
    }
   ],
   "source": [
    "import pandas as pd\n",
    "x = {\"Name\":['Sayyad','Talha','Shehree'], \"Address\" : ['Dir','Peshawar','Islamabad']}\n",
    "print(pd.DataFrame(x)) # data ba sanga frame ta convert she, bel bel cell ta"
   ]
  },
  {
   "cell_type": "markdown",
   "metadata": {},
   "source": [
    "Mong sara che different columns value v ao mong de 1 columns data access kawal ghwaro. no mong columns function use kao."
   ]
  },
  {
   "cell_type": "code",
   "execution_count": 2,
   "metadata": {},
   "outputs": [
    {
     "name": "stdout",
     "output_type": "stream",
     "text": [
      "      Name\n",
      "0   Sayyad\n",
      "1    Talha\n",
      "2  Shehree\n",
      "\n",
      "      Name    Address\n",
      "0   Sayyad        Dir\n",
      "1    Talha   Peshawar\n",
      "2  Shehree  Islamabad\n"
     ]
    }
   ],
   "source": [
    "x = {\"Name\":['Sayyad','Talha','Shehree'], \"Address\" : ['Dir','Peshawar','Islamabad']}\n",
    "print(pd.DataFrame(x, columns=[\"Name\"])) # no mong sara name key vala value print she.\n",
    "print()\n",
    "print(pd.DataFrame(x))"
   ]
  },
  {
   "cell_type": "markdown",
   "metadata": {},
   "source": [
    "Kala che mong different columns la particular data get kawal ghwaro."
   ]
  },
  {
   "cell_type": "code",
   "execution_count": 4,
   "metadata": {},
   "outputs": [
    {
     "name": "stdout",
     "output_type": "stream",
     "text": [
      "   1   2  3\n",
      "0  1  11  5\n",
      "1  2  22  3\n",
      "2  3  23  2\n",
      "3  4  13  1\n",
      "3\n"
     ]
    }
   ],
   "source": [
    "data = { 1 : [1, 2, 3, 4], 2: [11, 22 , 23, 13], 3 : [5, 3, 2, 1]} # Dictionary different key and value.\n",
    "z = pd.DataFrame(data)\n",
    "print(z)\n",
    "\n",
    "print(z[3][1]) # 3 row index 2 value show from print dataFrame form."
   ]
  },
  {
   "cell_type": "markdown",
   "metadata": {},
   "source": [
    "List la DataFrame sazawal."
   ]
  },
  {
   "cell_type": "code",
   "execution_count": null,
   "metadata": {},
   "outputs": [
    {
     "name": "stdout",
     "output_type": "stream",
     "text": [
      "a       [1, 2, 3, 4]\n",
      "b       [5, 6, 7, 8]\n",
      "c    [9, 10, 11, 12]\n",
      "dtype: object\n"
     ]
    }
   ],
   "source": [
    "var = [[1, 2, 3, 4],[5, 6, 7, 8], [9, 10, 11, 12]]\n",
    "var_1 = pd.DataFrame(var, index=['a','b','c'])\n",
    "print(var_1)"
   ]
  },
  {
   "cell_type": "markdown",
   "metadata": {},
   "source": [
    "Mong che da series na dataframe sazao."
   ]
  },
  {
   "cell_type": "code",
   "execution_count": 3,
   "metadata": {},
   "outputs": [
    {
     "name": "stdout",
     "output_type": "stream",
     "text": [
      "     Name   Address\n",
      "0  Sayyad   Germany\n",
      "1  shahid  Peshawar\n"
     ]
    }
   ],
   "source": [
    "var_1 = {\"Name\": pd.Series([\"Sayyad\",\"shahid\"]), \"Address\": pd.Series([\"Germany\",\"Peshawar\"])} # Series form data store at dictionary.\n",
    "var_2 = pd.DataFrame(var_1) # convert to data fram\n",
    "print(var_2)"
   ]
  },
  {
   "cell_type": "code",
   "execution_count": null,
   "metadata": {},
   "outputs": [],
   "source": []
  }
 ],
 "metadata": {
  "kernelspec": {
   "display_name": "tf-env",
   "language": "python",
   "name": "python3"
  },
  "language_info": {
   "codemirror_mode": {
    "name": "ipython",
    "version": 3
   },
   "file_extension": ".py",
   "mimetype": "text/x-python",
   "name": "python",
   "nbconvert_exporter": "python",
   "pygments_lexer": "ipython3",
   "version": "3.12.9"
  }
 },
 "nbformat": 4,
 "nbformat_minor": 2
}
