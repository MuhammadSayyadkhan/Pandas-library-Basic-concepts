{
 "cells": [
  {
   "cell_type": "code",
   "execution_count": 1,
   "metadata": {},
   "outputs": [
    {
     "name": "stdout",
     "output_type": "stream",
     "text": [
      "   A   B\n",
      "0  1   6\n",
      "1  2   7\n",
      "2  3   8\n",
      "3  4   9\n",
      "4  5  10\n"
     ]
    }
   ],
   "source": [
    "import pandas as pd\n",
    "x = pd.DataFrame({\"A\" : [1, 2, 3, 4, 5], \"B\" : [6, 7, 8, 9, 10]})\n",
    "print(x)"
   ]
  },
  {
   "cell_type": "markdown",
   "metadata": {},
   "source": [
    "Perform the arithmatic operation."
   ]
  },
  {
   "cell_type": "code",
   "execution_count": 2,
   "metadata": {},
   "outputs": [
    {
     "name": "stdout",
     "output_type": "stream",
     "text": [
      "   A   B   C\n",
      "0  1   6   7\n",
      "1  2   7   9\n",
      "2  3   8  11\n",
      "3  4   9  13\n",
      "4  5  10  15\n",
      "\n",
      "   A   B   C\n",
      "0  1   6   6\n",
      "1  2   7  14\n",
      "2  3   8  24\n",
      "3  4   9  36\n",
      "4  5  10  50\n",
      "\n",
      "   A   B         C\n",
      "0  1   6  0.166667\n",
      "1  2   7  0.285714\n",
      "2  3   8  0.375000\n",
      "3  4   9  0.444444\n",
      "4  5  10  0.500000\n"
     ]
    }
   ],
   "source": [
    "x1 = pd.DataFrame({\"A\" : [1, 2, 3, 4, 5], \"B\" : [6, 7, 8, 9, 10]})\n",
    "x1[\"C\"] = x1[\"A\"]+x1[\"B\"] # Add number\n",
    "print(x1)\n",
    "print()\n",
    "x1[\"C\"] = x1[\"A\"] * x1[\"B\"] # Multiplication\n",
    "print(x1)\n",
    "print()\n",
    "x1[\"C\"] = x1[\"A\"] / x1[\"B\"] # Division\n",
    "print(x1)\n"
   ]
  },
  {
   "cell_type": "markdown",
   "metadata": {},
   "source": [
    "### Condition Apply:"
   ]
  },
  {
   "cell_type": "code",
   "execution_count": 3,
   "metadata": {},
   "outputs": [
    {
     "name": "stdout",
     "output_type": "stream",
     "text": [
      "    A    B      C\n",
      "0  10   68   True\n",
      "1  12    7   True\n",
      "2  30   80  False\n",
      "3  41    9  False\n",
      "4  15  310   True\n"
     ]
    }
   ],
   "source": [
    "x2 = pd.DataFrame({\"A\" : [10, 12, 30, 41, 15], \"B\" : [68, 7, 80, 9, 310]})\n",
    "x2[\"C\"] = x2[\"A\"]<=20\n",
    "print(x2)"
   ]
  }
 ],
 "metadata": {
  "kernelspec": {
   "display_name": "Python 3",
   "language": "python",
   "name": "python3"
  },
  "language_info": {
   "codemirror_mode": {
    "name": "ipython",
    "version": 3
   },
   "file_extension": ".py",
   "mimetype": "text/x-python",
   "name": "python",
   "nbconvert_exporter": "python",
   "pygments_lexer": "ipython3",
   "version": "3.13.3"
  }
 },
 "nbformat": 4,
 "nbformat_minor": 2
}
