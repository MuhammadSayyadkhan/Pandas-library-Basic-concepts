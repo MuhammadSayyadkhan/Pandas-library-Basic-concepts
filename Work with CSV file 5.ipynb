{
 "cells": [
  {
   "cell_type": "markdown",
   "metadata": {},
   "source": [
    "### CSV:\n",
    "A simple way to store big data sets is to use CSV files (comma separated files).\n",
    "CSV files contains plain text and is a well know format that can be read by everyone including Pandas.\n",
    "In our examples we will be using a CSV file called 'data.csv'."
   ]
  },
  {
   "cell_type": "code",
   "execution_count": 1,
   "metadata": {},
   "outputs": [],
   "source": [
    "import pandas as pd\n",
    "var = { \"Name\": [\"Sayad\",\"shahid\",\"shehree\"], \"Address\": [\"Peshawar\", \"dir\", \"afghanistan\"]}\n",
    "d = pd.DataFrame(var)\n",
    "d.to_csv(\"new1.csv\", index=False) # data store in file, the file name is new, and store the pandas file."
   ]
  },
  {
   "cell_type": "code",
   "execution_count": 3,
   "metadata": {},
   "outputs": [],
   "source": [
    "var1 = { \"Name\": [\"Sayad\",\"shahid\",\"shehree\"], \"Address\": [\"Peshawar\", \"dir\", \"afghanistan\"]}\n",
    "d = pd.DataFrame(var1)\n",
    "d.to_csv(\"new1.csv\", index=False, header=[1, 2]) # change the header name, name, address replace 1, 2"
   ]
  },
  {
   "cell_type": "code",
   "execution_count": null,
   "metadata": {},
   "outputs": [],
   "source": []
  }
 ],
 "metadata": {
  "kernelspec": {
   "display_name": "tf-env",
   "language": "python",
   "name": "python3"
  },
  "language_info": {
   "codemirror_mode": {
    "name": "ipython",
    "version": 3
   },
   "file_extension": ".py",
   "mimetype": "text/x-python",
   "name": "python",
   "nbconvert_exporter": "python",
   "pygments_lexer": "ipython3",
   "version": "3.12.9"
  }
 },
 "nbformat": 4,
 "nbformat_minor": 2
}
