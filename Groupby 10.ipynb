{
 "cells": [
  {
   "cell_type": "markdown",
   "metadata": {},
   "source": [
    "### Groupby():\n",
    "In pandas, the groupby function is used to split the data into groups based on some criteria (like a column value), perform some operations on each group independently, and then combine the results back into a DataFrame or Series. It's commonly used for aggregation, transformation, and filtering operations."
   ]
  },
  {
   "cell_type": "code",
   "execution_count": null,
   "metadata": {},
   "outputs": [],
   "source": [
    "import pandas as pd\n",
    "dt = pd.DataFrame({\n",
    "    \"Name\" : [\"Ayan\", \"Shaweez\", \"Hassan\", \"Hussain\", \"Aliyan\", \"Manoo\"],\n",
    "    \"Marks\": [ 54, 34, 65, 34, 65, 23 ],\n",
    "    \"Sub_2\": [ 89, 65, 45, 74, 34, 34]\n",
    "})\n",
    "dt\n"
   ]
  },
  {
   "cell_type": "code",
   "execution_count": null,
   "metadata": {},
   "outputs": [],
   "source": [
    "dt = pd.DataFrame({\n",
    "    \"Name\" : [\"Ayan\", \"Shaweez\", \"Hassan\", \"Hussain\", \"Aliyan\", \"Manoo\"],\n",
    "    \"Sub_1\": [ 54, 34, 65, 34, 65, 23 ],\n",
    "    \"Sub_2\": [ 89, 65, 45, 74, 34, 34]\n",
    "})\n",
    "new = dt.groupby(\"Name\") # mond data convert kra group ta ao Name zarighy sara mong data separate kra\n",
    "for x,y in new:\n",
    "    print()\n",
    "    print(x)\n",
    "    print(\"************\")\n",
    "    print(y)"
   ]
  },
  {
   "cell_type": "markdown",
   "metadata": {},
   "source": [
    "#### get_group():\n",
    "kala che mong ta specific data access kawal ghwaro like mong sara sirf da A name wala data pakar da no mong get_group parameters sara access kawalo sho."
   ]
  },
  {
   "cell_type": "code",
   "execution_count": null,
   "metadata": {},
   "outputs": [],
   "source": [
    "dt_1 = pd.DataFrame({\n",
    "    \"Name\" : [\"Ayan\", \"Shaweez\", \"Hassan\", \"Hussain\", \"Ayan\", \"Manoo\", \"Ayan\"],\n",
    "    \"Sub_1\": [ 54, 34, 65, 34, 65, 23, 90 ],\n",
    "    \"Sub_2\": [ 89, 65, 45, 74, 34, 34, 89]\n",
    "})\n",
    "new_1 = dt_1.groupby(\"Name\") # Name groups name de\n",
    "new_1.get_group(\"Ayan\")      # Ao da name group la ayan data rawakhla.\n"
   ]
  },
  {
   "cell_type": "markdown",
   "metadata": {},
   "source": [
    "###### Another example:"
   ]
  },
  {
   "cell_type": "code",
   "execution_count": null,
   "metadata": {},
   "outputs": [],
   "source": [
    "new = pd.DataFrame({\n",
    "    \"Name\" :['a', 'b', 'c', 'd', 'a', 'b', 'c', 'd'],\n",
    "    \"marks\": [12, 12, 43, 23, 65, 34, 23, 76]\n",
    "})\n",
    "new_data= new.groupby(\"Name\")\n",
    "new_data.get_group('a')"
   ]
  },
  {
   "cell_type": "markdown",
   "metadata": {},
   "source": [
    "### Sum data:"
   ]
  },
  {
   "cell_type": "code",
   "execution_count": null,
   "metadata": {},
   "outputs": [],
   "source": [
    "dt_1 = pd.DataFrame({\n",
    "    \"Name\" : [\"Ayan\", \"Shaweez\", \"Hassan\", \"Hussain\", \"Ayan\", \"Manoo\", \"Ayan\"],\n",
    "    \"Sub_1\": [ 54, 34, 65, 34, 65, 23, 90 ],\n",
    "    \"Sub_2\": [ 89, 65, 45, 74, 34, 34, 89]\n",
    "})\n",
    "dt_1['Total'] = dt_1['Sub_1']+ dt_1['Sub_2']\n",
    "dt_1"
   ]
  },
  {
   "cell_type": "markdown",
   "metadata": {},
   "source": [
    "full data la mong da hassan data robaso"
   ]
  },
  {
   "cell_type": "code",
   "execution_count": null,
   "metadata": {},
   "outputs": [],
   "source": [
    "dt_1 = pd.DataFrame({\n",
    "    \"Name\" : [\"Ayan\", \"Shaweez\", \"Hassan\", \"Hussain\", \"Ayan\", \"Manoo\", \"Ayan\"],\n",
    "    \"Sub_1\": [ 54, 34, 65, 34, 65, 23, 90 ],\n",
    "    \"Sub_2\": [ 89, 65, 45, 74, 34, 34, 89]\n",
    "})\n",
    "dt_1['Total'] = dt_1['Sub_1']+ dt_1['Sub_2']\n",
    "dt_1\n",
    "new = dt_1.groupby(\"Name\") # data first group ta convert kra \n",
    "new.get_group(\"Hassan\")    # ao da group zarighy sara mong de hassan data access kra"
   ]
  },
  {
   "cell_type": "markdown",
   "metadata": {},
   "source": [
    "#### sum marks single categories"
   ]
  },
  {
   "cell_type": "code",
   "execution_count": null,
   "metadata": {},
   "outputs": [],
   "source": [
    "var = pd.DataFrame({\n",
    "    \"Name\" : [\"Ayan\", \"hassan\", \"Hussain\", \"Ayan\"],\n",
    "    \"Marks\": [89, 43, 65, 23]\n",
    "})\n",
    "new = var.groupby('Name')['Marks'].sum()\n",
    "new"
   ]
  },
  {
   "cell_type": "markdown",
   "metadata": {},
   "source": [
    "#### Sum and Count parameters:"
   ]
  },
  {
   "cell_type": "code",
   "execution_count": null,
   "metadata": {},
   "outputs": [],
   "source": [
    "data = {\n",
    "    'Category': ['A', 'B', 'A', 'B', 'A', 'B'],\n",
    "    'Value': [10, 20, 30, 40, 50, 60],\n",
    "    'Count': [1, 2, 3, 4, 5, 6]\n",
    "}\n",
    "# Creating a DataFrame\n",
    "df = pd.DataFrame(data)\n",
    "# Display the original DataFrame\n",
    "print(\"Original DataFrame:\")\n",
    "print(df)\n",
    "add_count = df.groupby('Category').agg({ # agg mean mong sara che danna km function apply kigy pa de processing oshe.\n",
    "    'Value':'sum',    # sum value\n",
    "    'Count': 'sum'    # sum count \n",
    "})\n",
    "print(\"**************\")\n",
    "print(add_count)\n",
    "# Aplly all parameters through agg\n",
    "all_parameters = df.groupby('Category').agg({\n",
    "    'Value': 'sum',\n",
    "    'Value': 'mean',\n",
    "    'Value': 'max',\n",
    "    'Value': 'min',\n",
    "    'Count': 'sum',\n",
    "    'Count': 'mean',\n",
    "    \n",
    "})\n",
    "print(all_parameters)\n",
    "\n"
   ]
  }
 ],
 "metadata": {
  "kernelspec": {
   "display_name": "Python 3",
   "language": "python",
   "name": "python3"
  },
  "language_info": {
   "codemirror_mode": {
    "name": "ipython",
    "version": 3
   },
   "file_extension": ".py",
   "mimetype": "text/x-python",
   "name": "python",
   "nbconvert_exporter": "python",
   "pygments_lexer": "ipython3",
   "version": "3.13.2"
  }
 },
 "nbformat": 4,
 "nbformat_minor": 2
}
