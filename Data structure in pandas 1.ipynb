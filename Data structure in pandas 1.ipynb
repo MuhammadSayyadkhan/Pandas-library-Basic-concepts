{
 "cells": [
  {
   "cell_type": "markdown",
   "metadata": {},
   "source": [
    "### Data Structure Pandas:\n",
    "Mong sara data python(Lists, Touple, dictionary) ao da mong pandas ta convert kao, convert kawalo mean mong p sa operation perform kawal ghwaro, index or data types changes.Three techniques use kao.\n",
    "#### 1: Series:\n",
    "#### 2: DataFrame\n",
    "#### 3: Panel"
   ]
  },
  {
   "cell_type": "markdown",
   "metadata": {},
   "source": [
    "### Series():\n",
    "it is define as a one dimensional array that is capable of storing various data type.\n",
    "Note: mong sara che kama data 1D array k v, ao da mong sara excel form k result show kai, value sara index om show kai, ao mong index style om change kawalo sho, ao data type om convert kai, numeric to float etc."
   ]
  },
  {
   "cell_type": "code",
   "execution_count": 2,
   "metadata": {},
   "outputs": [
    {
     "name": "stdout",
     "output_type": "stream",
     "text": [
      "0    1\n",
      "1    2\n",
      "2    4\n",
      "3    6\n",
      "dtype: int64\n",
      "*********************\n",
      "4\n",
      "______________________\n",
      "A       1\n",
      "B       2\n",
      "C       4\n",
      "Last    6\n",
      "dtype: int64\n",
      "++++++++++++++++++++++\n",
      "0    1.0\n",
      "1    2.0\n",
      "2    4.0\n",
      "3    6.0\n",
      "dtype: float64\n",
      "0    1.0\n",
      "1    2.0\n",
      "2    4.0\n",
      "3    6.0\n",
      "Name: uzair, dtype: float64\n"
     ]
    }
   ],
   "source": [
    "import pandas as pd\n",
    "x = [1, 2, 4, 6]     # List form data\n",
    "print(pd.Series(x))  # Index and value show 1D/Excel form.\n",
    "print(\"*********************\")\n",
    "print(x[2])          # Find index value\n",
    "print(\"______________________\")\n",
    "print(pd.Series(x, index=['A','B','C','Last']))  # Index value show alphabits\n",
    "print(\"++++++++++++++++++++++\")\n",
    "y = pd.Series(x, dtype='float')  # Numeric convert to float\n",
    "print(y)\n",
    "z = pd.Series(x, dtype='float', name=\"uzair\") # dtype la ba makhky name raze, uzair\n",
    "print(z)\n"
   ]
  },
  {
   "cell_type": "markdown",
   "metadata": {},
   "source": [
    "### Dictionary:\n",
    "Da dictionary la data rakhlo, ao dictionary k mong sara 1 key ao haghy k dana value e. use {} brases."
   ]
  },
  {
   "cell_type": "code",
   "execution_count": 3,
   "metadata": {},
   "outputs": [
    {
     "name": "stdout",
     "output_type": "stream",
     "text": [
      "       Name   Subject  Marks\n",
      "0  Shehryar       C++     89\n",
      "1     Talha    Python     87\n",
      "2    Ramzan  Database     90\n"
     ]
    }
   ],
   "source": [
    "dic = {\"Name\": [\"Shehryar\",\"Talha\",\"Ramzan\"],\"Subject\": ['C++','Python', 'Database'],\"Marks\": [ 89, 87, 90]}\n",
    "print(pd.DataFrame(dic))"
   ]
  },
  {
   "cell_type": "code",
   "execution_count": 4,
   "metadata": {},
   "outputs": [
    {
     "name": "stdout",
     "output_type": "stream",
     "text": [
      "1    12\n",
      "2    12\n",
      "3    12\n",
      "4    12\n",
      "dtype: int64\n"
     ]
    }
   ],
   "source": [
    "s = pd.Series(12, index=[1,2, 3,4]) # single value and four time print index size 1, 2, 3, 4\n",
    "print(s)"
   ]
  },
  {
   "cell_type": "markdown",
   "metadata": {},
   "source": [
    "## Add:\n",
    "add two list, the first dimensional is smaller than, second. dosn't show error, the extra value show NaN.\n",
    "Numpy k ba che mong sara value kamy v no error ba e rakao broadcasting, che dimensionals value equal ka."
   ]
  },
  {
   "cell_type": "code",
   "execution_count": 5,
   "metadata": {},
   "outputs": [
    {
     "name": "stdout",
     "output_type": "stream",
     "text": [
      "0     2.0\n",
      "1     4.0\n",
      "2     6.0\n",
      "3     8.0\n",
      "4    10.0\n",
      "5     NaN\n",
      "6     NaN\n",
      "dtype: float64\n"
     ]
    }
   ],
   "source": [
    "x = pd.Series([1, 2, 3, 4, 5])\n",
    "y = pd.Series([1, 2, 3, 4, 5, 6, 7])\n",
    "z =(x+y)\n",
    "print(z)"
   ]
  }
 ],
 "metadata": {
  "kernelspec": {
   "display_name": "tf-env",
   "language": "python",
   "name": "python3"
  },
  "language_info": {
   "codemirror_mode": {
    "name": "ipython",
    "version": 3
   },
   "file_extension": ".py",
   "mimetype": "text/x-python",
   "name": "python",
   "nbconvert_exporter": "python",
   "pygments_lexer": "ipython3",
   "version": "3.12.9"
  }
 },
 "nbformat": 4,
 "nbformat_minor": 2
}
